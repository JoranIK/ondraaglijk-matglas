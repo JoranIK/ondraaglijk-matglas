{
 "cells": [
  {
   "cell_type": "code",
   "execution_count": 1,
   "id": "ea60afbe",
   "metadata": {},
   "outputs": [],
   "source": [
    "# Imports\n",
    "import re\n",
    "import numpy as np\n",
    "import pandas as pd\n",
    "import pickle\n",
    "from datetime import datetime, timezone\n",
    "from config import *\n",
    "\n",
    "pd.options.mode.chained_assignment = None"
   ]
  },
  {
   "cell_type": "code",
   "execution_count": 2,
   "id": "a73c2e2d",
   "metadata": {},
   "outputs": [],
   "source": [
    "try:\n",
    "    save_path = save_path\n",
    "except:\n",
    "    save_path = 'data/minset.pkl.gz'"
   ]
  },
  {
   "cell_type": "code",
   "execution_count": 3,
   "id": "6803011c",
   "metadata": {},
   "outputs": [],
   "source": [
    "min2023 = pd.read_pickle('data/minbesluit.pkl.gz', compression='gzip')"
   ]
  },
  {
   "cell_type": "code",
   "execution_count": 4,
   "id": "045e553c",
   "metadata": {},
   "outputs": [],
   "source": [
    "# datums als '2 1 juni 2023' omzetten naar '21 juni 2023' en double whitespace weghalen\n",
    "def join_numbers(s):\n",
    "    s = ' '.join(s.split())\n",
    "    return re.sub(r\"(\\s?\\d)(\\s)(\\d\\s)\", '\\g<1>\\g<3>', s)\n",
    "\n",
    "# elke hele zin pakken waarin 'deelbesluit' wordt genoemd\n",
    "deelbesluit_regex1 = r\"[A-Za-z\\s0-9-]+deelbesluit[A-Za-z\\s0-9-]+\"\n",
    "\n",
    "def regex_context_deelbesluit(s):\n",
    "    if type(s) == float:\n",
    "        return None\n",
    "    else:\n",
    "        search_result = re.findall(deelbesluit_regex1, join_numbers(s))\n",
    "        if search_result != None:\n",
    "            result = search_result\n",
    "            if len(result) == 0:\n",
    "                return None\n",
    "            return result\n",
    "        else:\n",
    "            return None\n",
    "        \n",
    "# elke zin pakken waar 'verdaag' in wordt genoemd\n",
    "verdaagd_regex1 = r\"[A-Za-z\\s0-9-]+verdaag[A-Za-z\\s0-9-]+\"\n",
    "\n",
    "def regex_context_verdaagd(s):\n",
    "    if type(s) == float:\n",
    "        return None\n",
    "    else:\n",
    "        search_result = re.findall(verdaagd_regex1, join_numbers(s))\n",
    "        if search_result != None:\n",
    "            result = search_result\n",
    "            if len(result) == 0:\n",
    "                return None\n",
    "            return result\n",
    "        else:\n",
    "            return search_result\n",
    "        \n",
    "def verschil(row):\n",
    "    dagtekening = row['dagtekening_complete']\n",
    "    verzoek = row['verzoek_datum']\n",
    "    if isinstance(dagtekening, datetime) and isinstance(verzoek, datetime):\n",
    "        verschil = dagtekening - verzoek\n",
    "        if verschil.days < 0:\n",
    "            return None\n",
    "        else: \n",
    "            return verschil\n",
    "    else:\n",
    "        return None\n",
    "    \n",
    "def td_to_days(td):\n",
    "    if td != None:\n",
    "        return td.days"
   ]
  },
  {
   "cell_type": "code",
   "execution_count": 5,
   "id": "255cfc99",
   "metadata": {},
   "outputs": [],
   "source": [
    "# deelbesluit context ophalen\n",
    "min2023['deelbesluit_context'] = min2023['foi_bodyTextOCR'].apply(lambda x: regex_context_deelbesluit(x))\n",
    "\n",
    "# opgehaalde contexten naar alle rijen van een document uitsmeren\n",
    "min2023['deelbesluit_context'] = min2023['deelbesluit_context'].groupby(level=0).fillna(method='ffill')\n",
    "min2023['deelbesluit_context'] = min2023['deelbesluit_context'].groupby(level=0).fillna(method='bfill')"
   ]
  },
  {
   "cell_type": "code",
   "execution_count": 6,
   "id": "baabb1b8",
   "metadata": {},
   "outputs": [],
   "source": [
    "# verdaagd context ophalen\n",
    "min2023['verdaagd_context'] = min2023['foi_bodyTextOCR'].apply(lambda x: regex_context_verdaagd(x))\n",
    "\n",
    "# opgehaalde contexten naar alle rijen van een document uitsmeren\n",
    "min2023['verdaagd_context'] = min2023['verdaagd_context'].groupby(level=0).fillna(method='ffill')\n",
    "min2023['verdaagd_context'] = min2023['verdaagd_context'].groupby(level=0).fillna(method='bfill')"
   ]
  },
  {
   "cell_type": "code",
   "execution_count": 7,
   "id": "35ac14fa",
   "metadata": {},
   "outputs": [],
   "source": [
    "min2023['looptijd'] = None\n",
    "min2023['looptijd'] = min2023.apply(lambda x: td_to_days(verschil(x)), axis=1)\n",
    "min2023['looptijd'] = min2023['looptijd'].groupby(level=0).fillna(method='ffill')\n",
    "min2023['looptijd'] = min2023['looptijd'].groupby(level=0).fillna(method='bfill')"
   ]
  },
  {
   "cell_type": "code",
   "execution_count": null,
   "id": "d35af972",
   "metadata": {},
   "outputs": [],
   "source": [
    "min2023.to_pickle(save_path, compression='gzip')\n",
    "print(f\"Saved in: {save_path}\")"
   ]
  }
 ],
 "metadata": {
  "kernelspec": {
   "display_name": "Python 3 (ipykernel)",
   "language": "python",
   "name": "python3"
  },
  "language_info": {
   "codemirror_mode": {
    "name": "ipython",
    "version": 3
   },
   "file_extension": ".py",
   "mimetype": "text/x-python",
   "name": "python",
   "nbconvert_exporter": "python",
   "pygments_lexer": "ipython3",
   "version": "3.11.5"
  }
 },
 "nbformat": 4,
 "nbformat_minor": 5
}
