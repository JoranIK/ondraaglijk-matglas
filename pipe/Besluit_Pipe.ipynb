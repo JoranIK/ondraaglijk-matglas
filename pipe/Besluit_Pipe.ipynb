{
 "cells": [
  {
   "cell_type": "markdown",
   "id": "d94464af",
   "metadata": {},
   "source": [
    "### Spacy modellen:\n",
    "https://drive.google.com/drive/folders/1AzG_0rQbi4SYRyxSno41R8wCUszkRG-r?usp=sharing"
   ]
  },
  {
   "cell_type": "code",
   "execution_count": 1,
   "id": "f852897b",
   "metadata": {},
   "outputs": [],
   "source": [
    "# Imports\n",
    "import re\n",
    "import spacy\n",
    "import string\n",
    "import json\n",
    "import numpy as np\n",
    "import pandas as pd\n",
    "import dateparser\n",
    "from datetime import datetime, timezone, timedelta\n",
    "import pickle\n",
    "\n",
    "pd.options.mode.chained_assignment = None"
   ]
  },
  {
   "cell_type": "code",
   "execution_count": 2,
   "id": "5280d854",
   "metadata": {},
   "outputs": [],
   "source": [
    "save_path = 'data/minbesluit.pkl.gz'"
   ]
  },
  {
   "cell_type": "code",
   "execution_count": 3,
   "id": "e764eb31",
   "metadata": {},
   "outputs": [],
   "source": [
    "# datums als '2 1 juni 2023' omzetten naar '21 juni 2023' en double whitespace weghalen\n",
    "def join_numbers(s):\n",
    "    s = ' '.join(s.split())\n",
    "    return re.sub(r\"(\\s?\\d)(\\s)(\\d\\s)\", '\\g<1>\\g<3>', s)"
   ]
  },
  {
   "cell_type": "code",
   "execution_count": 4,
   "id": "4a4a8bd8",
   "metadata": {},
   "outputs": [
    {
     "name": "stdout",
     "output_type": "stream",
     "text": [
      "bs func def\n"
     ]
    }
   ],
   "source": [
    "min2023 = pd.read_pickle('data/minverzoek.pkl.gz', compression='gzip')\n",
    "\n",
    "besluit_regex6_2 = r\"\\.\\sBesluit\\s([A-Z]*(.*?\\.\\s){0,4})\"\n",
    "besluit_regex8_2 = r\"\\.\\sBesluit:\\s([A-Z]*(.*?\\.\\s){0,4})\"\n",
    "besluit_regex9_2 = r\"\\d\\sBesluit\\s([A-Z]*(.*?\\.\\s){0,4})\"\n",
    "besluit_regex10_2 = r\"\\,\\sBesluit\\s([A-Z]*(.*?\\.\\s){0,4})\"\n",
    "\n",
    "def regex_context_besluit(s):\n",
    "    if type(s) == float:\n",
    "        return None\n",
    "    else:\n",
    "        search_result = re.search(besluit_regex6_2, join_numbers(s))\n",
    "        if search_result == None:\n",
    "            search_result = re.search(besluit_regex8_2, join_numbers(s))\n",
    "        if search_result == None:\n",
    "            search_result = re.search(besluit_regex9_2, join_numbers(s))\n",
    "        if search_result == None:\n",
    "            search_result = re.search(besluit_regex10_2, join_numbers(s))\n",
    "        if search_result != None:\n",
    "            result = search_result.group(1)\n",
    "            return result\n",
    "        else:\n",
    "            return search_result"
   ]
  },
  {
   "cell_type": "code",
   "execution_count": 5,
   "id": "4aec6445",
   "metadata": {},
   "outputs": [],
   "source": [
    "# besluit context ophalen\n",
    "min2023['besluit_context'] = min2023['foi_bodyTextOCR'].apply(lambda x: regex_context_besluit(x))\n",
    "\n",
    "# opgehaalde besluiten naar alle rijen van een document uitsmeren\n",
    "min2023['besluit_context'] = min2023['besluit_context'].groupby(level=0).fillna(method='ffill')\n",
    "min2023['besluit_context'] = min2023['besluit_context'].groupby(level=0).fillna(method='bfill')"
   ]
  },
  {
   "cell_type": "code",
   "execution_count": 6,
   "id": "ac996711",
   "metadata": {},
   "outputs": [],
   "source": [
    "nlp_gescheiden = spacy.load(\"data/spacy_models/nl_besluit_gescheiden_lg\")\n",
    "\n",
    "def type_besluit(row):\n",
    "    if row.name[1] == 1:\n",
    "        besluit_text = row['besluit_context']\n",
    "        if besluit_text != None:\n",
    "            doc = nlp_gescheiden(besluit_text)\n",
    "            hoogste = max(doc.cats, key=doc.cats.get)\n",
    "            perc = doc.cats[hoogste]\n",
    "            return hoogste, round(perc*100, 2)\n",
    "        else: \n",
    "            return None, None\n",
    "\n",
    "min2023['besluit_spacy'] = min2023.apply(lambda x: type_besluit(x), axis=1)\n",
    "min2023[['besluit_type', 'besluit_zekerheid']] = pd.DataFrame(min2023['besluit_spacy'].tolist(), index=min2023.index)\n",
    "min2023.drop('besluit_spacy', axis=1, inplace=True)\n",
    "\n",
    "min2023['besluit_type'] = min2023['besluit_type'].groupby(level=0).fillna(method='ffill')\n",
    "min2023['besluit_type'] = min2023['besluit_type'].groupby(level=0).fillna(method='bfill')\n",
    "min2023['besluit_zekerheid'] = min2023['besluit_zekerheid'].groupby(level=0).fillna(method='ffill')\n",
    "min2023['besluit_zekerheid'] = min2023['besluit_zekerheid'].groupby(level=0).fillna(method='bfill')"
   ]
  },
  {
   "cell_type": "code",
   "execution_count": 9,
   "id": "4d5f5b2a",
   "metadata": {},
   "outputs": [
    {
     "data": {
      "text/plain": [
       "besluit_type\n",
       "deels openbaar    15969\n",
       "afgewezen          7558\n",
       "openbaar           5316\n",
       "niet aanwezig       559\n",
       "Name: count, dtype: int64"
      ]
     },
     "execution_count": 9,
     "metadata": {},
     "output_type": "execute_result"
    }
   ],
   "source": [
    "min2023['besluit_type'].value_counts()"
   ]
  },
  {
   "cell_type": "code",
   "execution_count": null,
   "id": "4a0517f7",
   "metadata": {},
   "outputs": [],
   "source": [
    "min2023.to_pickle(save_path, compression='gzip')"
   ]
  }
 ],
 "metadata": {
  "kernelspec": {
   "display_name": "Python 3 (ipykernel)",
   "language": "python",
   "name": "python3"
  },
  "language_info": {
   "codemirror_mode": {
    "name": "ipython",
    "version": 3
   },
   "file_extension": ".py",
   "mimetype": "text/x-python",
   "name": "python",
   "nbconvert_exporter": "python",
   "pygments_lexer": "ipython3",
   "version": "3.11.5"
  }
 },
 "nbformat": 4,
 "nbformat_minor": 5
}
