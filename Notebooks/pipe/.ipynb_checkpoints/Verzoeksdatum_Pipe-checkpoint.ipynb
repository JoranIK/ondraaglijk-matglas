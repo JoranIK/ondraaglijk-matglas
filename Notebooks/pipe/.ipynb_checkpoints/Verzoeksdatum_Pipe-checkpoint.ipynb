{
 "cells": [
  {
   "cell_type": "code",
   "execution_count": 1,
   "id": "ae716a88",
   "metadata": {},
   "outputs": [],
   "source": [
    "# Imports\n",
    "import re\n",
    "import spacy\n",
    "import string\n",
    "import numpy as np\n",
    "import pandas as pd\n",
    "import dateparser\n",
    "from datetime import datetime, timezone\n",
    "import pickle"
   ]
  },
  {
   "cell_type": "code",
   "execution_count": 2,
   "id": "79973e0d",
   "metadata": {},
   "outputs": [],
   "source": [
    "save_path = 'data/minverzoek.pkl.gz'"
   ]
  },
  {
   "cell_type": "code",
   "execution_count": 3,
   "id": "aae6192c",
   "metadata": {},
   "outputs": [
    {
     "name": "stdout",
     "output_type": "stream",
     "text": [
      "==== Verzoeksdatum ====\n"
     ]
    }
   ],
   "source": [
    "min2023 = pd.read_pickle('data/minextracted.pkl.gz', compression='gzip')"
   ]
  },
  {
   "cell_type": "code",
   "execution_count": 44,
   "id": "16bb7568",
   "metadata": {},
   "outputs": [],
   "source": [
    "# extract dates functie uit notebook van Maarten Marx 'DutchDatumParser', settings toegevoegd\n",
    "nlp = spacy.load(\"nl_core_news_lg\")\n",
    "date_label = ['DATE']\n",
    "\n",
    "def extract_dates(text):\n",
    "    doc = nlp(text)\n",
    "    results = [ent.text for ent in doc.ents if ent.label_ in date_label]\n",
    "    results= {s:dateparser.parse(s, settings={'REQUIRE_PARTS': ['day', 'month', 'year']}) for s in results}\n",
    "    return results\n",
    "\n",
    "# datums als '2 1 juni 2023' omzetten naar '21 juni 2023' en double whitespace weghalen\n",
    "def join_numbers(s):\n",
    "    s = ' '.join(s.split())\n",
    "    return re.sub(r\"(\\s?\\d)(\\s)(\\d\\s)\", '\\g<1>\\g<3>', s)\n",
    "\n",
    "def sort_dates(dates):\n",
    "    if dates != None and len(dates) >= 1:\n",
    "        dates = sorted([x.replace(tzinfo=None) for x in dates.values() if not x is None])\n",
    "    else:\n",
    "        return None\n",
    "    \n",
    "    # onrealistische datums weghalen\n",
    "    dates = [x for x in dates if (x.year > 1950 and x.year < 2050)]\n",
    "    \n",
    "    if len(dates) == 0 or dates == {}:\n",
    "        return None\n",
    "    return dates\n",
    "\n",
    "# verzoeksdatum staat soms naast de dagtekening, verzoekdatum is dan altijd de vroegste datum\n",
    "def grab_earliest_date(dates):\n",
    "    sorted_dates = sort_dates(dates)\n",
    "    if sorted_dates != None:\n",
    "        return min(sorted_dates)\n",
    "    else:\n",
    "        return sorted_dates\n",
    "\n",
    "# context van de verzoeksdatum ophalen\n",
    "def regex_context_verzoek(row):\n",
    "    if row.name[1] == 1 or row.name[1] == 2 or row.name[1] == 3:\n",
    "        s = row['foi_bodyTextOCR']\n",
    "        if type(s) != str:\n",
    "            return None\n",
    "        else:\n",
    "            search_result = re.search(r\"Geachte.{0,10}(\\s+\\S+){15}\", s, re.IGNORECASE)\n",
    "            if search_result == None:\n",
    "                search_result = re.search(r\"In uw.{0,10}(\\s+\\S+){15}\", s, re.IGNORECASE)\n",
    "            if search_result == None:\n",
    "                search_result = re.search(r\"[^.]*verzoek[^.]*\\.\", s, re.IGNORECASE)\n",
    "            if search_result == None:\n",
    "                search_result = re.search(r\"[^.]*verzocht[^.]*\\.\", s, re.IGNORECASE)\n",
    "            if search_result == None:\n",
    "                search_result = re.search(r\"[^.]*ontving[^.]*\\.\", s, re.IGNORECASE)\n",
    "            if search_result != None:\n",
    "                result = search_result[0].translate(str.maketrans('', '', string.punctuation.replace('-', ''))).lower()\n",
    "                return join_numbers(result)\n",
    "            else:\n",
    "                return None\n",
    "\n",
    "# direct alleen de verzoekdatum teruggeven, in plaats van de context\n",
    "def extract_verzoek(row):\n",
    "    if row.name[1] == 1 or row.name[1] == 2 or row.name[1] == 3:\n",
    "        s = row['foi_bodyTextOCR']\n",
    "        regex_queries = [r\"Geachte.{0,10}(\\s+\\S+){15}\", \n",
    "                     r\"In uw.{0,10}(\\s+\\S+){15}\", \n",
    "                     r\"[^.]*verzoek[^.]*\\.\", \n",
    "                     r\"[^.]*verzocht[^.]*\\.\", \n",
    "                     r\"[^.]*ontving[^.]*\\.\"]\n",
    "        if type(s) != str:\n",
    "            return None \n",
    "        else:\n",
    "            for query in regex_queries:\n",
    "                search_result = re.search(query, s, re.IGNORECASE)\n",
    "                if search_result != None:\n",
    "                    date = extract_dates(join_numbers(search_result[0].translate(str.maketrans('', '', string.punctuation.replace('-', ''))).lower()))\n",
    "                    if len(date) >= 1:\n",
    "                        return grab_earliest_date(date)\n",
    "        return None\n",
    "    else:\n",
    "        None"
   ]
  },
  {
   "cell_type": "code",
   "execution_count": 45,
   "id": "9ce2c6bc",
   "metadata": {},
   "outputs": [],
   "source": [
    "# extract verzoek en de context vol alle paginas met de verzoeksdatum, dit duurt even\n",
    "min2023['verzoek_context'] = min2023.apply(lambda x: regex_context_verzoek(x), axis=1)\n",
    "\n",
    "min2023['verzoek_datum'] = min2023.apply(lambda x: extract_verzoek(x), axis=1)\n",
    "\n",
    "min2023['verzoek_context'] = min2023['verzoek_context'].groupby(level=0).fillna(method='ffill')\n",
    "min2023['verzoek_context'] = min2023['verzoek_context'].groupby(level=0).fillna(method='bfill')\n",
    "\n",
    "min2023['verzoek_datum'] = min2023['verzoek_datum'].groupby(level=0).fillna(method='ffill')\n",
    "min2023['verzoek_datum'] = min2023['verzoek_datum'].groupby(level=0).fillna(method='bfill')"
   ]
  },
  {
   "cell_type": "code",
   "execution_count": 7,
   "id": "fc7e2eeb",
   "metadata": {},
   "outputs": [],
   "source": [
    "min2023.to_pickle(path=save_path, compression='gzip')"
   ]
  }
 ],
 "metadata": {
  "kernelspec": {
   "display_name": "Python 3 (ipykernel)",
   "language": "python",
   "name": "python3"
  },
  "language_info": {
   "codemirror_mode": {
    "name": "ipython",
    "version": 3
   },
   "file_extension": ".py",
   "mimetype": "text/x-python",
   "name": "python",
   "nbconvert_exporter": "python",
   "pygments_lexer": "ipython3",
   "version": "3.11.5"
  }
 },
 "nbformat": 4,
 "nbformat_minor": 5
}
