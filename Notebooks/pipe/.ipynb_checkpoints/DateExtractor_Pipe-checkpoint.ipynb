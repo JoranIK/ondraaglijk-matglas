{
 "cells": [
  {
   "cell_type": "markdown",
   "id": "452ef1c0",
   "metadata": {},
   "source": [
    "## Notebook to process data from woobesluiten.csv.gz \n",
    "\n",
    "#### What does it do?\n",
    "- Picks out decisions made only by ministeries in 2023\n",
    "- Extracts decision dates with regex where possible\n",
    "- Further tries to extract decision dates by looking at the sentence where 'Datum' is first mentioned\n",
    "- Saves the DataFrame to \"data/ministeries2023extracted.pkl.gz\" in a pickle file to preserve datatypes and indexes"
   ]
  },
  {
   "cell_type": "code",
   "execution_count": 1,
   "id": "53540866",
   "metadata": {},
   "outputs": [],
   "source": [
    "# Imports\n",
    "import re\n",
    "import spacy\n",
    "import string\n",
    "import numpy as np\n",
    "import pandas as pd\n",
    "import dateparser\n",
    "from datetime import datetime, timezone\n",
    "import pickle\n",
    "\n",
    "from config import start_date, end_date, save_path"
   ]
  },
  {
   "cell_type": "code",
   "execution_count": 2,
   "id": "adc59e3b",
   "metadata": {},
   "outputs": [],
   "source": [
    "woobesluiten_path = 'data/woobesluiten.csv.gz'\n",
    "current_save_path = 'data/minextracted.pkl.gz'\n",
    "print(f\"Extracting data from woo-dossiers from {start_date} to {end_date}\")\n",
    "print(f\"When done it will be saved to: {save_path}\")"
   ]
  },
  {
   "cell_type": "code",
   "execution_count": 3,
   "id": "6bfd1b44",
   "metadata": {},
   "outputs": [
    {
     "name": "stderr",
     "output_type": "stream",
     "text": [
      "C:\\Users\\Joran\\AppData\\Local\\Temp\\ipykernel_15152\\3620951926.py:1: DtypeWarning: Columns (17,20,29,31,32,35,40,41,43,45,46,47,49) have mixed types. Specify dtype option on import or set low_memory=False.\n",
      "  woobesluiten = pd.read_csv(woobesluiten_path)\n"
     ]
    }
   ],
   "source": [
    "woobesluiten = pd.read_csv(woobesluiten_path)\n",
    "\n",
    "nlp = spacy.load(\"nl_core_news_lg\")\n",
    "pd.options.mode.chained_assignment = None"
   ]
  },
  {
   "cell_type": "code",
   "execution_count": 4,
   "id": "755e1821",
   "metadata": {},
   "outputs": [],
   "source": [
    "# multi index\n",
    "woobesluiten.set_index(['foi_documentId', 'foi_pageNumber'], inplace=True)"
   ]
  },
  {
   "cell_type": "code",
   "execution_count": 5,
   "id": "d9553ae9",
   "metadata": {},
   "outputs": [
    {
     "data": {
      "text/plain": [
       "(107520, 53)"
      ]
     },
     "execution_count": 5,
     "metadata": {},
     "output_type": "execute_result"
    }
   ],
   "source": [
    "# alleen ministeries overhouden\n",
    "wooMinisterie = woobesluiten[woobesluiten['dc_publisher_name'].str.contains('Ministerie')]\n",
    "wooMinisterie.shape"
   ]
  },
  {
   "cell_type": "code",
   "execution_count": 7,
   "id": "e9634086",
   "metadata": {},
   "outputs": [],
   "source": [
    "# ministeries van 2023\n",
    "wooMinisterie['foi_decisionDate'] = pd.to_datetime(wooMinisterie['foi_decisionDate'], format='%Y-%m-%d')\n",
    "start_date = datetime.strptime(start_date, '%Y-%m-%d')\n",
    "end_date = datetime.strptime(end_date, '%Y-%m-%d')\n",
    "\n",
    "if start_date and end_date:\n",
    "    min2023extracted = wooMinisterie.loc[(wooMinisterie['foi_decisionDate'] >= start_date) & (wooMinisterie['foi_decisionDate'] <= end_date)]\n",
    "else:\n",
    "    min2023extracted = wooMinisterie.loc[(wooMinisterie['foi_decisionDate'] >= '2023-01-01') & (wooMinisterie['foi_decisionDate'] <= '2023-12-31')]\n",
    "\n",
    "print(f\"besluiten van {start_date} tot {end_date}\")"
   ]
  },
  {
   "cell_type": "code",
   "execution_count": 28,
   "id": "427887ac",
   "metadata": {},
   "outputs": [
    {
     "data": {
      "text/plain": [
       "(1456, 53)"
      ]
     },
     "execution_count": 28,
     "metadata": {},
     "output_type": "execute_result"
    }
   ],
   "source": [
    "print(min2023extracted[min2023extracted.index.get_level_values(1) == 1].shape)"
   ]
  },
  {
   "cell_type": "code",
   "execution_count": null,
   "id": "0a4d7a24",
   "metadata": {},
   "outputs": [],
   "source": [
    "# extract dates functie uit notebook van Maarten Marx 'DutchDatumParser'\n",
    "\n",
    "date_label = ['DATE']\n",
    "\n",
    "def extract_dates(text):\n",
    "    doc = nlp(text)\n",
    "    results = [ent.text for ent in doc.ents if ent.label_ in date_label]\n",
    "    results= {s:dateparser.parse(s, settings={'REQUIRE_PARTS': ['day', 'month', 'year']}) for s in results}\n",
    "    return results\n",
    "\n",
    "def sort_dates(dates):\n",
    "    if dates != None and len(dates) >= 1:\n",
    "        dates = sorted([x.replace(tzinfo=None) for x in dates.values() if not x is None])\n",
    "    else:\n",
    "        return None\n",
    "    \n",
    "    # onrealistische datums weghalen\n",
    "    dates = [x for x in dates if (x.year > 1950 and x.year < 2050)]\n",
    "    \n",
    "    if len(dates) == 0 or dates == {}:\n",
    "        return None\n",
    "    return dates"
   ]
  },
  {
   "cell_type": "code",
   "execution_count": null,
   "id": "e22452f6",
   "metadata": {},
   "outputs": [],
   "source": [
    "# extract alle dates, niet aanbevolen, duurt heel lang\n",
    "# later in de notebook wordt het alleen op de eerste pagina's uitgevoerd\n",
    "\n",
    "# min2023extracted['dates'] = min2023extracted['foi_bodyTextOCR'].apply(lambda x: extract_dates(x) if (type(x) == str) else None)\n",
    "# min2023extracted['dates_sorted'] = min2023extracted['dates'].apply(lambda x: sort_dates(x))min2023extracted"
   ]
  },
  {
   "cell_type": "code",
   "execution_count": null,
   "id": "195e6ed7",
   "metadata": {
    "scrolled": true
   },
   "outputs": [],
   "source": [
    "# datums als '2 1 juni 2023' omzetten naar '21 juni 2023' en double whitespace weghalen\n",
    "def join_numbers(s):\n",
    "    s = ' '.join(s.split())\n",
    "    return re.sub(r\"(\\s?\\d)(\\s)(\\d\\s)\", '\\g<1>\\g<3>', s)\n",
    "\n",
    "# 7 woorden/getallen voor, en 6 woorden/getallen na 'Datum' noteren en een beetje opschonen voor Spacy\n",
    "def regex_context_dagtekening(s):\n",
    "    if type(s) == float:\n",
    "        return None\n",
    "    else:\n",
    "        search_result = re.search(r\"(\\S+\\s+){8}Datum[:]?(\\s+\\S+){6}\", s)\n",
    "        if search_result != None:\n",
    "            result = search_result[0].translate(str.maketrans('', '', string.punctuation.replace('-', ''))).lower()\n",
    "            return join_numbers(result)\n",
    "        else:\n",
    "            return None\n",
    "        \n",
    "def parse_and_combine_dt_dtspacy(row):\n",
    "    dt_regex = row['dagtekening_extracted']\n",
    "    dt_spacy = row['dagtekening_spacy_sorted']\n",
    "    if dt_spacy != None:\n",
    "        if len(dt_spacy) > 1:\n",
    "            dt_spacy = max(dt_spacy)\n",
    "        else:\n",
    "            dt_spacy = dt_spacy[0]\n",
    "    if isinstance(dt_regex, datetime):\n",
    "        if dt_regex.year > datetime.today().year:\n",
    "            return dt_regex.ctime()\n",
    "        else:\n",
    "            return dt_regex\n",
    "    elif isinstance(dt_spacy, datetime):\n",
    "        if dt_spacy.year > datetime.today().year:\n",
    "            return dt_spacy.ctime()\n",
    "        else:\n",
    "            return dt_spacy\n",
    "    else:\n",
    "        return None\n",
    "\n",
    "def return_date(s):\n",
    "    if isinstance(s, str):\n",
    "        dates = extract_dates(join_numbers(s))\n",
    "        if len(dates) != 0:\n",
    "            date_list = [date for date in dates.values() if date != None]\n",
    "            if len(date_list) >= 1:\n",
    "                return max(date_list)\n",
    "        else:\n",
    "            return None\n",
    "    else:\n",
    "        return None\n",
    "    "
   ]
  },
  {
   "cell_type": "code",
   "execution_count": null,
   "id": "17a703b6",
   "metadata": {},
   "outputs": [],
   "source": [
    "# dagtekening met reguliere expressies eruit halen\n",
    "min2023extracted['dagtekening'] = min2023extracted['foi_bodyTextOCR'].str.extract(r'(?<=\\bDatum\\s)(\\d+ \\w+ \\d+)')\n",
    "min2023extracted['dagtekening_colon'] = min2023extracted['foi_bodyTextOCR'].str.extract(r'(?<=\\bDatum:\\s)(\\d+ \\w+ \\d+)')\n",
    "min2023extracted['dagtekening_dashed'] = min2023extracted['foi_bodyTextOCR'].str.extract(r'(?<=\\bDatum\\s)(\\d+-\\w+-\\d+)')\n",
    "min2023extracted['dagtekening_before'] = min2023extracted['foi_bodyTextOCR'].str.extract(r'([0-9]? \\d+ \\w+ \\d+)(?=\\s+Datum)')\n",
    "min2023extracted['dagtekening_context'] = min2023extracted['foi_bodyTextOCR'].apply(lambda x: regex_context_dagtekening(x))\n",
    "\n",
    "# verschillende reguliere expressies combineren tot 1 kolom\n",
    "min2023extracted['dagtekening_combined'] = min2023extracted['dagtekening'].combine_first(min2023extracted['dagtekening_colon']).combine_first(min2023extracted['dagtekening_dashed']).combine_first(min2023extracted['dagtekening_before'])\n",
    "min2023extracted.drop(['dagtekening', 'dagtekening_colon', 'dagtekening_dashed', 'dagtekening_before'], axis=1, inplace=True)\n",
    "min2023extracted['dagtekening_extracted'] = min2023extracted['dagtekening_combined'].apply(lambda x: return_date(x))"
   ]
  },
  {
   "cell_type": "code",
   "execution_count": null,
   "id": "33f3e9bc",
   "metadata": {},
   "outputs": [],
   "source": [
    "# uit de context de lastigere datums met Spacy proberen op te halen, duurt even!\n",
    "min2023extracted['dagtekening_spacy'] = min2023extracted['dagtekening_context'].apply(lambda x: extract_dates(x) if (type(x) == str) else None)\n",
    "\n",
    "# Spacy datums sorteren en filteren\n",
    "min2023extracted['dagtekening_spacy_sorted'] = min2023extracted['dagtekening_spacy'].apply(lambda x: sort_dates(x))\n"
   ]
  },
  {
   "cell_type": "code",
   "execution_count": null,
   "id": "9bde5b44",
   "metadata": {},
   "outputs": [],
   "source": [
    "min2023extracted['dagtekening_complete'] = min2023extracted.apply(lambda x: parse_and_combine_dt_dtspacy(x), axis=1)\n",
    "\n",
    "min2023extracted['dagtekening_complete'] = min2023extracted['dagtekening_complete'].groupby(level=0).fillna(method='ffill')\n",
    "min2023extracted['dagtekening_complete'] = min2023extracted['dagtekening_complete'].groupby(level=0).fillna(method='bfill')"
   ]
  },
  {
   "cell_type": "code",
   "execution_count": null,
   "id": "0e7cb64a",
   "metadata": {},
   "outputs": [],
   "source": [
    "total_documents = len(set(min2023extracted.index.get_level_values(0)))\n",
    "regex_extractions = min2023extracted['dagtekening_combined'].loc[(min2023extracted.index.get_level_values(0), [1])].isna().sum()\n",
    "regexAndSpacy_extractions = len(min2023extracted[min2023extracted.index.get_level_values(1) == 1][min2023extracted[['dagtekening_combined', 'dagtekening_spacy_sorted']].isna().all(1)][['dagtekening_combined', 'dagtekening_spacy_sorted']])\n",
    "\n",
    "print(f\"After regex and Spacy extraction we are still missing {regexAndSpacy_extractions} of {total_documents} dates.\")"
   ]
  },
  {
   "cell_type": "code",
   "execution_count": null,
   "id": "2d20c596",
   "metadata": {},
   "outputs": [],
   "source": [
    "min2023extracted.to_pickle(path=current_save_path, compression='gzip')\n",
    "print(f\"saved to {current_save_path}\")"
   ]
  }
 ],
 "metadata": {
  "kernelspec": {
   "display_name": "Python 3 (ipykernel)",
   "language": "python",
   "name": "python3"
  },
  "language_info": {
   "codemirror_mode": {
    "name": "ipython",
    "version": 3
   },
   "file_extension": ".py",
   "mimetype": "text/x-python",
   "name": "python",
   "nbconvert_exporter": "python",
   "pygments_lexer": "ipython3",
   "version": "3.11.5"
  }
 },
 "nbformat": 4,
 "nbformat_minor": 5
}
